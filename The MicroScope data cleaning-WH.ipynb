{
 "cells": [
  {
   "cell_type": "code",
   "execution_count": 1,
   "metadata": {},
   "outputs": [],
   "source": [
    "import dash\n",
    "from dash import html\n",
    "from dash import dcc\n",
    "from dash.dependencies import Input, Output\n",
    "import plotly.express as px\n",
    "import plotly.graph_objs as go\n",
    "import pandas as pd\n",
    "import numpy as np\n",
    "import plotly.io as pio\n",
    "# from plotly.subplots import make_subplots\n",
    "from jupyter_dash import JupyterDash"
   ]
  },
  {
   "cell_type": "code",
   "execution_count": 2,
   "metadata": {},
   "outputs": [],
   "source": [
    "# set template\n",
    "pio.templates[\"WH\"]=go.layout.Template(\n",
    "layout_annotations=[\n",
    "    dict(\n",
    "        name=\"draft watermark\",\n",
    "        text=\"WH\",\n",
    "        textangle=0,\n",
    "        opacity=0.1,\n",
    "        font=dict(color=\"grey\",size=30),\n",
    "        xref=\"paper\",\n",
    "        yref=\"paper\",\n",
    "        x=1,\n",
    "        y=0.2,\n",
    "        showarrow=False\n",
    "    )\n",
    "]\n",
    ")\n",
    "\n",
    "pio.templates.default = \"simple_white+WH\""
   ]
  },
  {
   "cell_type": "code",
   "execution_count": 3,
   "metadata": {},
   "outputs": [],
   "source": [
    "# Load data and explore the top 5 rows\n",
    "df=pd.read_excel(\"Copy of MicrobeScope 2018 - public datasheet.xlsx\",sheet_name=\"DATA_full\",header=1,\n",
    "                 skiprows=lambda x: x in[2])\n",
    "# print(df.head())"
   ]
  },
  {
   "cell_type": "markdown",
   "metadata": {},
   "source": [
    "- there are both categorical data and numerical data\n",
    "- Dataset has missing values represented by \"-\""
   ]
  },
  {
   "cell_type": "code",
   "execution_count": 4,
   "metadata": {},
   "outputs": [],
   "source": [
    "# replace missing values with NaN\n",
    "df.replace('-',np.nan,inplace=True)"
   ]
  },
  {
   "cell_type": "code",
   "execution_count": null,
   "metadata": {},
   "outputs": [],
   "source": [
    "# print(df.info())"
   ]
  },
  {
   "cell_type": "markdown",
   "metadata": {},
   "source": [
    " -Dataset has 79 rows and 49 columns with data types of integer, float and object."
   ]
  },
  {
   "cell_type": "code",
   "execution_count": 5,
   "metadata": {},
   "outputs": [],
   "source": [
    "# check duplication\n",
    "for isDuplicate in df.duplicated():\n",
    "    if isDuplicate== True:\n",
    "        print(isDuplicate)"
   ]
  },
  {
   "cell_type": "code",
   "execution_count": 6,
   "metadata": {},
   "outputs": [],
   "source": [
    "# change column names\n",
    "dic={'R0':'Contagiousness','CFR_adult':'Deadliness','Hits':'Awareness','Hits_news':'Media Coverage',\n",
    "     'Incidence_raw':'New Cases P/Y','Fatal_raw':'Fatalities','Prevalence_raw':'No. of Sufferers','Mode':'Transmission'}\n",
    "df.rename(dic,axis=1,inplace=True)\n",
    "# df.columns"
   ]
  },
  {
   "cell_type": "code",
   "execution_count": null,
   "metadata": {},
   "outputs": [],
   "source": [
    "# df.loc[~df['Sublabel'].isnull(),['Name','Sublabel']]"
   ]
  },
  {
   "cell_type": "code",
   "execution_count": null,
   "metadata": {},
   "outputs": [],
   "source": [
    "# Investigate rows with same Names"
   ]
  },
  {
   "cell_type": "code",
   "execution_count": 7,
   "metadata": {},
   "outputs": [
    {
     "data": {
      "text/plain": [
       "66"
      ]
     },
     "execution_count": 7,
     "metadata": {},
     "output_type": "execute_result"
    }
   ],
   "source": [
    "len(df['Name'].unique())"
   ]
  },
  {
   "cell_type": "code",
   "execution_count": 8,
   "metadata": {},
   "outputs": [
    {
     "data": {
      "text/plain": [
       "11"
      ]
     },
     "execution_count": 8,
     "metadata": {},
     "output_type": "execute_result"
    }
   ],
   "source": [
    "# a list c to contain same name with multiple entries\n",
    "c=[]\n",
    "for idx, name in enumerate(df['Name'].value_counts().index.tolist()):\n",
    "    if df['Name'].value_counts()[idx]>1:\n",
    "        c.append(name)\n",
    "len(c)"
   ]
  },
  {
   "cell_type": "code",
   "execution_count": 9,
   "metadata": {},
   "outputs": [
    {
     "data": {
      "text/html": [
       "<div>\n",
       "<style scoped>\n",
       "    .dataframe tbody tr th:only-of-type {\n",
       "        vertical-align: middle;\n",
       "    }\n",
       "\n",
       "    .dataframe tbody tr th {\n",
       "        vertical-align: top;\n",
       "    }\n",
       "\n",
       "    .dataframe thead th {\n",
       "        text-align: right;\n",
       "    }\n",
       "</style>\n",
       "<table border=\"1\" class=\"dataframe\">\n",
       "  <thead>\n",
       "    <tr style=\"text-align: right;\">\n",
       "      <th></th>\n",
       "      <th>ID</th>\n",
       "      <th>Name</th>\n",
       "      <th>Sublabel</th>\n",
       "      <th>Pathogen_type</th>\n",
       "      <th>Contagiousness</th>\n",
       "      <th>Deadliness</th>\n",
       "      <th>Biosafety</th>\n",
       "      <th>Survive_surfaces</th>\n",
       "      <th>Survive_ideal</th>\n",
       "      <th>CFR_adult_grp</th>\n",
       "      <th>...</th>\n",
       "      <th>Fatal_US</th>\n",
       "      <th>Fatal_Eur</th>\n",
       "      <th>Fatal_Af</th>\n",
       "      <th>Peak</th>\n",
       "      <th>Peak_year</th>\n",
       "      <th>Vulnerable</th>\n",
       "      <th>Hotspots</th>\n",
       "      <th>Treatment</th>\n",
       "      <th>Effectiveness</th>\n",
       "      <th>Resistance</th>\n",
       "    </tr>\n",
       "  </thead>\n",
       "  <tbody>\n",
       "    <tr>\n",
       "      <th>38</th>\n",
       "      <td>38</td>\n",
       "      <td>Meningitis</td>\n",
       "      <td>(meningococcal, treated)</td>\n",
       "      <td>bacterium</td>\n",
       "      <td>1.3</td>\n",
       "      <td>0.115000</td>\n",
       "      <td>2</td>\n",
       "      <td>NaN</td>\n",
       "      <td>NaN</td>\n",
       "      <td>Moderate</td>\n",
       "      <td>...</td>\n",
       "      <td>369.818808</td>\n",
       "      <td>1618.064728</td>\n",
       "      <td>66043.0</td>\n",
       "      <td>NaN</td>\n",
       "      <td>NaN</td>\n",
       "      <td>Babies, preschool children, young people</td>\n",
       "      <td>The 'meningitis belt' – an area of sub-Saharan...</td>\n",
       "      <td>Antibiotics including penicillin, ampicillin a...</td>\n",
       "      <td>Limited.</td>\n",
       "      <td>NaN</td>\n",
       "    </tr>\n",
       "    <tr>\n",
       "      <th>75</th>\n",
       "      <td>75</td>\n",
       "      <td>Meningitis</td>\n",
       "      <td>(meningococcal, all)</td>\n",
       "      <td>bacterium</td>\n",
       "      <td>1.3</td>\n",
       "      <td>0.375972</td>\n",
       "      <td>2</td>\n",
       "      <td>NaN</td>\n",
       "      <td>NaN</td>\n",
       "      <td>Moderate</td>\n",
       "      <td>...</td>\n",
       "      <td>369.818808</td>\n",
       "      <td>1618.064728</td>\n",
       "      <td>66043.0</td>\n",
       "      <td>NaN</td>\n",
       "      <td>NaN</td>\n",
       "      <td>Babies, preschool children, young people</td>\n",
       "      <td>The 'meningitis belt' – an area of sub-Saharan...</td>\n",
       "      <td>Antibiotics including penicillin, ampicillin a...</td>\n",
       "      <td>Limited.</td>\n",
       "      <td>NaN</td>\n",
       "    </tr>\n",
       "  </tbody>\n",
       "</table>\n",
       "<p>2 rows × 49 columns</p>\n",
       "</div>"
      ],
      "text/plain": [
       "    ID        Name                  Sublabel Pathogen_type  Contagiousness  \\\n",
       "38  38  Meningitis  (meningococcal, treated)     bacterium             1.3   \n",
       "75  75  Meningitis      (meningococcal, all)     bacterium             1.3   \n",
       "\n",
       "    Deadliness Biosafety  Survive_surfaces  Survive_ideal CFR_adult_grp  ...  \\\n",
       "38    0.115000         2               NaN            NaN      Moderate  ...   \n",
       "75    0.375972         2               NaN            NaN      Moderate  ...   \n",
       "\n",
       "      Fatal_US    Fatal_Eur  Fatal_Af  Peak  Peak_year  \\\n",
       "38  369.818808  1618.064728   66043.0   NaN        NaN   \n",
       "75  369.818808  1618.064728   66043.0   NaN        NaN   \n",
       "\n",
       "                                  Vulnerable  \\\n",
       "38  Babies, preschool children, young people   \n",
       "75  Babies, preschool children, young people   \n",
       "\n",
       "                                             Hotspots  \\\n",
       "38  The 'meningitis belt' – an area of sub-Saharan...   \n",
       "75  The 'meningitis belt' – an area of sub-Saharan...   \n",
       "\n",
       "                                            Treatment  Effectiveness  \\\n",
       "38  Antibiotics including penicillin, ampicillin a...       Limited.   \n",
       "75  Antibiotics including penicillin, ampicillin a...       Limited.   \n",
       "\n",
       "   Resistance  \n",
       "38        NaN  \n",
       "75        NaN  \n",
       "\n",
       "[2 rows x 49 columns]"
      ]
     },
     "execution_count": 9,
     "metadata": {},
     "output_type": "execute_result"
    }
   ],
   "source": [
    "# Investigate one by one since there are only 11 of them \n",
    "# most of them have different Sublabel with different data, can treat as different deseases\n",
    "# only show suspicious ones \n",
    "i=c[3]\n",
    "df[df['Name']==i] "
   ]
  },
  {
   "cell_type": "code",
   "execution_count": 10,
   "metadata": {},
   "outputs": [
    {
     "data": {
      "text/plain": [
       "count     74.000000\n",
       "mean       4.920270\n",
       "std       13.482408\n",
       "min        0.000000\n",
       "25%        1.025000\n",
       "50%        2.000000\n",
       "75%        4.275000\n",
       "max      115.000000\n",
       "Name: Contagiousness, dtype: float64"
      ]
     },
     "execution_count": 10,
     "metadata": {},
     "output_type": "execute_result"
    }
   ],
   "source": [
    "df['Contagiousness'].describe()"
   ]
  },
  {
   "cell_type": "code",
   "execution_count": 11,
   "metadata": {},
   "outputs": [],
   "source": [
    "# both Malaria rows are the same except the Contagiousness\n",
    "# contagiousness=115 and 17 are both very high compaired with other deseases in this dataset (mean=4.9)\n",
    "# delete the one with 115(outlier)\n",
    "df.drop(index=35,axis=0,inplace=True)\n",
    "df.reset_index(drop=True,inplace=True)"
   ]
  },
  {
   "cell_type": "code",
   "execution_count": 11,
   "metadata": {},
   "outputs": [
    {
     "data": {
      "text/plain": [
       "Index(['ID', 'Name', 'Sublabel', 'Pathogen_type', 'Contagiousness',\n",
       "       'Deadliness', 'Biosafety', 'Survive_surfaces', 'Survive_ideal',\n",
       "       'CFR_adult_grp', 'CFR_child', 'Awareness', 'Media Coverage', 'I_news',\n",
       "       'I_yucky', 'I_fear', 'I_ignored', 'I_attention', 'I_notoriety',\n",
       "       'Transmission', 'Dose', 'Dose_grp', 'Dose_type', 'Incubation',\n",
       "       'Incubation_range', 'Incidence', 'New Cases P/Y', 'Incidence_US',\n",
       "       'Incidence_Eur', 'Incidence_Af', 'Prevalence', 'No. of Sufferers',\n",
       "       'DALYs', 'DALYs_raw', 'DALYs_US', 'DALYs_Eur', 'DALYs_Af', 'Fatal',\n",
       "       'Fatalities', 'Fatal_US', 'Fatal_Eur', 'Fatal_Af', 'Peak', 'Peak_year',\n",
       "       'Vulnerable', 'Hotspots', 'Treatment', 'Effectiveness', 'Resistance'],\n",
       "      dtype='object')"
      ]
     },
     "execution_count": 11,
     "metadata": {},
     "output_type": "execute_result"
    }
   ],
   "source": [
    "df.columns"
   ]
  },
  {
   "cell_type": "code",
   "execution_count": 12,
   "metadata": {},
   "outputs": [
    {
     "data": {
      "text/plain": [
       "array(['Low', 'Moderate', 'High', 'Very high', 'Virtually zero',\n",
       "       'Very low', nan, 'Virtually certain'], dtype=object)"
      ]
     },
     "execution_count": 12,
     "metadata": {},
     "output_type": "execute_result"
    }
   ],
   "source": [
    "df['CFR_adult_grp'].unique()"
   ]
  },
  {
   "cell_type": "code",
   "execution_count": 13,
   "metadata": {},
   "outputs": [],
   "source": [
    "scat_x=['Contagiousness','Awareness','Media Coverage','New Cases P/Y','Fatalities','No. of Sufferers']\n",
    "scat_y=['Deadliness','Awareness','Media Coverage','New Cases P/Y','Fatalities','No. of Sufferers']"
   ]
  },
  {
   "cell_type": "code",
   "execution_count": 14,
   "metadata": {},
   "outputs": [],
   "source": [
    "import seaborn as sns"
   ]
  },
  {
   "cell_type": "code",
   "execution_count": 15,
   "metadata": {},
   "outputs": [
    {
     "data": {
      "text/plain": [
       "<seaborn.axisgrid.PairGrid at 0x1cbe9d96fd0>"
      ]
     },
     "execution_count": 15,
     "metadata": {},
     "output_type": "execute_result"
    },
    {
     "data": {
      "image/png": "[encoded data removed]",
      "text/plain": [
       "<Figure size 1166.88x1080 with 36 Axes>"
      ]
     },
     "metadata": {
      "needs_background": "light"
     },
     "output_type": "display_data"
    }
   ],
   "source": [
    "sns.pairplot(df,hue='Pathogen_type',x_vars=scat_x,y_vars=scat_y)"
   ]
  },
  {
   "cell_type": "code",
   "execution_count": 16,
   "metadata": {},
   "outputs": [
    {
     "data": {
      "text/plain": [
       "bacterium    32\n",
       "virus        32\n",
       "parasite     14\n",
       "Name: Pathogen_type, dtype: int64"
      ]
     },
     "execution_count": 16,
     "metadata": {},
     "output_type": "execute_result"
    }
   ],
   "source": [
    "# drop the prion pathogen type as it is not representative (only 1 count)\n",
    "df.drop(index=df[df['Pathogen_type']=='prion'].index,inplace=True)\n",
    "df.reset_index(drop=True,inplace=True)\n",
    "df['Pathogen_type'].value_counts()"
   ]
  },
  {
   "cell_type": "code",
   "execution_count": 17,
   "metadata": {},
   "outputs": [
    {
     "data": {
      "text/plain": [
       "['virus', 'bacterium', 'parasite']"
      ]
     },
     "execution_count": 17,
     "metadata": {},
     "output_type": "execute_result"
    }
   ],
   "source": [
    "MicrobeType=df['Pathogen_type'].unique().tolist()\n",
    "MicrobeType"
   ]
  },
  {
   "cell_type": "code",
   "execution_count": 18,
   "metadata": {},
   "outputs": [
    {
     "data": {
      "text/plain": [
       "['airbome', 'facal-oral', 'food', 'bites', 'body fluids', 'other']"
      ]
     },
     "execution_count": 18,
     "metadata": {},
     "output_type": "execute_result"
    }
   ],
   "source": [
    "\n",
    "# df['Transmission'].unique()\n",
    "dic_transmission={'air droplets':'airbome',\n",
    "                 'fecal-oral':'facal-oral',\n",
    "                 'food and water':'food',\n",
    "                 'bites':'bites',\n",
    "                 'body fluids':'body fluids',\n",
    "                 'other':'other'}\n",
    "df.replace(dic_transmission,inplace=True)\n",
    "transmission=df['Transmission'].unique().tolist()\n",
    "transmission"
   ]
  },
  {
   "cell_type": "code",
   "execution_count": 20,
   "metadata": {},
   "outputs": [
    {
     "name": "stdout",
     "output_type": "stream",
     "text": [
      "Dash is running on http://127.0.0.1:8050/\n",
      "\n",
      "Dash is running on http://127.0.0.1:8050/\n",
      "\n",
      " * Serving Flask app \"__main__\" (lazy loading)\n",
      " * Environment: production\n",
      "   WARNING: This is a development server. Do not use it in a production deployment.\n",
      "   Use a production WSGI server instead.\n",
      " * Debug mode: on\n"
     ]
    }
   ],
   "source": [
    "\n",
    "app=dash.Dash()\n",
    "app.layout=html.Div([\n",
    "                    # title\n",
    "                    html.H1(children='The MicroScope',style={'textAlign':'left'}),  \n",
    "    \n",
    "                \n",
    "                    # checklist_transmission type\n",
    "                    html.Div([\n",
    "                            html.Label('Transmission Type',\n",
    "                                      style=dict(fontsize=10,color='grey')),\n",
    "                            dcc.RadioItems(\n",
    "                                        id='transmission type',\n",
    "                                        options=[{'label':i,'value':i} for i in df['Transmission'].unique()]+\n",
    "                                        [{'label':'ALL','value':'ALL'}],\n",
    "                                        value='ALL',                                        \n",
    "                                        labelStyle={'display':'inline-block'}\n",
    "                                        )\n",
    "                               ],\n",
    "                            style={'float':'right','margin-right':50,'width':300\n",
    "                                   }),     \n",
    "\n",
    "    \n",
    "                    # trend line box\n",
    "                    html.Div([\n",
    "                            html.Label('Trend line',\n",
    "                                       style=dict(fontsize=10,color='grey')),\n",
    "                            dcc.RadioItems(\n",
    "                                        id='trendline',\n",
    "                                        options=[{'label':'On','value':'On'},\n",
    "                                                 {'label':'Off','value':'Off'}],\n",
    "                                        value='Off',                                        \n",
    "                                        labelStyle={'display':'inline-block'}\n",
    "                                        )\n",
    "                               ],\n",
    "                            style={'float':'right','margin-right':100,\n",
    "                                   'width':100}),\n",
    " \n",
    "    \n",
    "                    # y axis dropdown\n",
    "                    html.Div([\n",
    "                            dcc.Dropdown(\n",
    "                            id='yaxis',\n",
    "                            options=[{'label': i.title(), 'value': i} for i in scat_y],\n",
    "                            value='Deadliness'\n",
    "                                        )\n",
    "                             ],\n",
    "                            style={'width': '15%', 'margin-left': 10,'display': 'inline-block'}),\n",
    " \n",
    "    \n",
    "                    html.P(),\n",
    "\n",
    "    \n",
    "                    # graph\n",
    "                    dcc.Graph(id='feature-graphic',),\n",
    "        \n",
    "                    # x axis dropdown\n",
    "                    html.Div([\n",
    "                            dcc.Dropdown(\n",
    "                            id='xaxis',\n",
    "                            options=[{'label': i.title(), 'value': i} for i in scat_x],\n",
    "                            value='Contagiousness'\n",
    "                                        )\n",
    "                             ],\n",
    "                            style={'width': '15%', 'margin-left': 800,'display': 'inline-block'}),\n",
    "                     ],\n",
    "    \n",
    "                    style={'padding':5}\n",
    "                    )\n",
    "\n",
    "\n",
    "@app.callback(\n",
    "    Output('feature-graphic', 'figure'),\n",
    "    [Input('xaxis', 'value'),\n",
    "     Input('yaxis', 'value'),\n",
    "     Input('trendline','value'),\n",
    "     Input('transmission type','value'),\n",
    "        ])\n",
    "def update_fig(xaxis_name,yaxis_name,trend_line,trans_type):\n",
    "    \n",
    "    if trend_line=='On':\n",
    "        a='ols'\n",
    "    else:\n",
    "        a=None\n",
    "    if trans_type=='ALL':\n",
    "        dff=df\n",
    "    else:\n",
    "        dff=df[df['Transmission']==trans_type]\n",
    "    \n",
    "    \n",
    "    fig=px.scatter(dff,x=xaxis_name,y=yaxis_name,hover_name='Name',\n",
    "                    color='Pathogen_type',\n",
    "                    color_discrete_map={\"virus\": \"rgb(72,209,204)\", \n",
    "                                       \"bacterium\": \"rgb(233,150,122)\",\n",
    "                                      \"parasite\":\"rgb(128,128,0)\"},    \n",
    "                    trendline=a, )\n",
    "        \n",
    "\n",
    "    fig.update_layout(\n",
    "                      yaxis_zeroline=True,\n",
    "                      xaxis_zeroline=True,\n",
    "                     \n",
    "                      legend_title='Pathogen type',\n",
    "                      legend_title_font=dict(size=12,color='grey'),\n",
    "                      legend=dict(\n",
    "                                  orientation='h',\n",
    "                                  yanchor='bottom',\n",
    "                                  y=1.02,\n",
    "                                  xanchor='right',\n",
    "                                  x=0.4),\n",
    "                      )\n",
    "    \n",
    "\n",
    "    \n",
    "    if yaxis_name=='Deadliness':\n",
    "        fig.update_yaxes(type='log',range=[-4.5,0.3],showgrid=True,zerolinecolor='black',zerolinewidth=0.5,tick0=0,\n",
    "                        dtick=1,tickformat='.2%',)\n",
    "        fig.update_xaxes(showgrid=True,zerolinecolor='black',zerolinewidth=0.5,\n",
    "                    tick0=0,)\n",
    "        fig.add_hrect(y0=0.5, y1=1, line_width=0, fillcolor=\"#bb1919\", opacity=0.09,\n",
    "                     )        \n",
    "        \n",
    "        fig.add_hrect(y0=0.2, y1=0.5, line_width=0, fillcolor=\"#ef8888\", opacity=0.08,\n",
    "                )\n",
    "        fig.add_annotation(xref='x domain',\n",
    "                            yref='y domain',\n",
    "                           x=0.98,\n",
    "                           y=0.95,\n",
    "                           text='extremly deadly',\n",
    "                           showarrow=False, \n",
    "                           font=dict(\n",
    "                                color=\"black\",\n",
    "                                        size=12\n",
    "                            ))\n",
    "        fig.add_annotation(xref=\"x domain\",\n",
    "                            yref=\"y domain\",\n",
    "                  x=0.95, y=0.88,text='deadly',showarrow=False, font=dict(\n",
    "                color=\"black\",\n",
    "                size=12\n",
    "            ))\n",
    "\n",
    "        fig.add_hline(y=0.2,line_width=0.5,line_color='black')\n",
    "        fig.add_hline(y=0.5,line_width=0.5,line_color='black')\n",
    "        fig.add_annotation(xref=\"x domain\",\n",
    "                            yref=\"y domain\",\n",
    "                           x=-0.035, y=0.82,\n",
    "                           text='20.00%',showarrow=False, \n",
    "                           font=dict(\n",
    "                            color=\"black\",\n",
    "                                size=12\n",
    "            ))\n",
    "        fig.add_annotation(xref=\"x domain\",\n",
    "                            yref=\"y domain\",\n",
    "                            x=-0.035, \n",
    "                           y=0.9,text='50.00%',\n",
    "                           showarrow=False, \n",
    "                           font=dict(\n",
    "                            color=\"black\",\n",
    "                            size=12\n",
    "            ))\n",
    "    else:\n",
    "        fig.update_xaxes(showgrid=True,zerolinecolor='black',zerolinewidth=0.5,\n",
    "                    tick0=0,ticklabelposition='inside top')\n",
    "        fig.update_yaxes(showgrid=True,zerolinecolor='black',zerolinewidth=0.5,\n",
    "                    tick0=0,ticklabelposition='inside right')\n",
    "    \n",
    "        \n",
    "    return fig\n",
    "\n",
    "\n",
    "app.run_server(debug=True,use_reloader=False)"
   ]
  },
  {
   "cell_type": "code",
   "execution_count": null,
   "metadata": {},
   "outputs": [],
   "source": []
  }
 ],
 "metadata": {
  "kernelspec": {
   "display_name": "Python 3",
   "language": "python",
   "name": "python3"
  },
  "language_info": {
   "codemirror_mode": {
    "name": "ipython",
    "version": 3
   },
   "file_extension": ".py",
   "mimetype": "text/x-python",
   "name": "python",
   "nbconvert_exporter": "python",
   "pygments_lexer": "ipython3",
   "version": "3.7.3"
  }
 },
 "nbformat": 4,
 "nbformat_minor": 2
}
